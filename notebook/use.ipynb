{
 "cells": [
  {
   "cell_type": "code",
   "execution_count": 1,
   "metadata": {},
   "outputs": [],
   "source": [
    "import numpy as np\n",
    "import pandas as pd\n",
    "import scipy as sp"
   ]
  },
  {
   "cell_type": "code",
   "execution_count": 2,
   "metadata": {},
   "outputs": [],
   "source": [
    "df_data = pd.read_csv('../data/titanic/train.csv')"
   ]
  },
  {
   "cell_type": "code",
   "execution_count": 6,
   "metadata": {},
   "outputs": [],
   "source": [
    "corr_matrix = df_data.corr()"
   ]
  },
  {
   "cell_type": "code",
   "execution_count": 7,
   "metadata": {},
   "outputs": [],
   "source": [
    "upper = corr_matrix.where(np.triu(np.ones(corr_matrix.shape), k=1).astype(np.bool))"
   ]
  },
  {
   "cell_type": "code",
   "execution_count": 24,
   "metadata": {},
   "outputs": [
    {
     "data": {
      "text/html": [
       "<div>\n",
       "<style scoped>\n",
       "    .dataframe tbody tr th:only-of-type {\n",
       "        vertical-align: middle;\n",
       "    }\n",
       "\n",
       "    .dataframe tbody tr th {\n",
       "        vertical-align: top;\n",
       "    }\n",
       "\n",
       "    .dataframe thead th {\n",
       "        text-align: right;\n",
       "    }\n",
       "</style>\n",
       "<table border=\"1\" class=\"dataframe\">\n",
       "  <thead>\n",
       "    <tr style=\"text-align: right;\">\n",
       "      <th></th>\n",
       "      <th>corlinear</th>\n",
       "    </tr>\n",
       "  </thead>\n",
       "  <tbody>\n",
       "    <tr>\n",
       "      <th>Survived</th>\n",
       "      <td>1.000000</td>\n",
       "    </tr>\n",
       "    <tr>\n",
       "      <th>Fare</th>\n",
       "      <td>0.257307</td>\n",
       "    </tr>\n",
       "    <tr>\n",
       "      <th>Parch</th>\n",
       "      <td>0.081629</td>\n",
       "    </tr>\n",
       "    <tr>\n",
       "      <th>PassengerId</th>\n",
       "      <td>-0.005007</td>\n",
       "    </tr>\n",
       "    <tr>\n",
       "      <th>SibSp</th>\n",
       "      <td>-0.035322</td>\n",
       "    </tr>\n",
       "    <tr>\n",
       "      <th>Age</th>\n",
       "      <td>-0.077221</td>\n",
       "    </tr>\n",
       "    <tr>\n",
       "      <th>Pclass</th>\n",
       "      <td>-0.338481</td>\n",
       "    </tr>\n",
       "  </tbody>\n",
       "</table>\n",
       "</div>"
      ],
      "text/plain": [
       "             corlinear\n",
       "Survived      1.000000\n",
       "Fare          0.257307\n",
       "Parch         0.081629\n",
       "PassengerId  -0.005007\n",
       "SibSp        -0.035322\n",
       "Age          -0.077221\n",
       "Pclass       -0.338481"
      ]
     },
     "execution_count": 24,
     "metadata": {},
     "output_type": "execute_result"
    }
   ],
   "source": [
    "pd.DataFrame(df_data.corrwith(df_data['Survived'])).rename(columns={0:'corlinear'}).sort_values('corlinear', ascending=False)"
   ]
  },
  {
   "cell_type": "code",
   "execution_count": 10,
   "metadata": {},
   "outputs": [],
   "source": [
    "to_drop = [col for col in upper.columns if any(upper[col].abs() > 0.4)]"
   ]
  },
  {
   "cell_type": "code",
   "execution_count": 11,
   "metadata": {},
   "outputs": [
    {
     "data": {
      "text/plain": [
       "['Parch', 'Fare']"
      ]
     },
     "execution_count": 11,
     "metadata": {},
     "output_type": "execute_result"
    }
   ],
   "source": [
    "to_drop"
   ]
  },
  {
   "cell_type": "code",
   "execution_count": 14,
   "metadata": {},
   "outputs": [],
   "source": [
    "corr_features = list(upper.index[upper['Parch'].abs() > 0.4])"
   ]
  },
  {
   "cell_type": "code",
   "execution_count": 15,
   "metadata": {},
   "outputs": [
    {
     "data": {
      "text/plain": [
       "['SibSp']"
      ]
     },
     "execution_count": 15,
     "metadata": {},
     "output_type": "execute_result"
    }
   ],
   "source": [
    "corr_features"
   ]
  },
  {
   "cell_type": "code",
   "execution_count": 18,
   "metadata": {},
   "outputs": [],
   "source": [
    "corr_values = list(upper['Parch'][upper['Parch'].abs() > 0.4])\n"
   ]
  },
  {
   "cell_type": "code",
   "execution_count": 19,
   "metadata": {},
   "outputs": [
    {
     "data": {
      "text/plain": [
       "[0.41483769862015263]"
      ]
     },
     "execution_count": 19,
     "metadata": {},
     "output_type": "execute_result"
    }
   ],
   "source": [
    "corr_values"
   ]
  },
  {
   "cell_type": "code",
   "execution_count": 25,
   "metadata": {},
   "outputs": [],
   "source": [
    "import xgboost  as xgb"
   ]
  },
  {
   "cell_type": "code",
   "execution_count": 45,
   "metadata": {},
   "outputs": [],
   "source": [
    "xgb_params = {\n",
    "    'booster': 'gbtree',\n",
    "    'learning_rate': 0.05,\n",
    "    'max_depth': 5,\n",
    "    'subsample': 0.85,\n",
    "    'colsample_bytree': 0.85,\n",
    "    'objective': 'reg:linear',\n",
    "    'n_estimators': 1000,\n",
    "    'min_child_weight': 3,\n",
    "    'gamma': 0,\n",
    "    'silent': True,\n",
    "    'n_jobs': 4,\n",
    "    'random_state': 2019,\n",
    "    'verbose': 1\n",
    "}\n",
    "lgb_params = {\n",
    "    'boosting_type': 'gbdt',\n",
    "    'n_estimators': 1000,\n",
    "    'learning_rate': 0.05,\n",
    "    'min_child_samples': 46,\n",
    "    'min_child_weight': 0.01,\n",
    "    'subsample_freq': 2,\n",
    "    'num_leaves': 40,\n",
    "    'max_depth': 7,\n",
    "    'subsample': 0.85,\n",
    "    'colsample_bytree': 0.85,\n",
    "    'verbose': -1,\n",
    "    'seed': 2019\n",
    "}"
   ]
  },
  {
   "cell_type": "code",
   "execution_count": 28,
   "metadata": {},
   "outputs": [],
   "source": [
    "data = pd.DataFrame(data={\"x\":[1,2,3,4,5,3,4,5,6,7], \"y\":[0,1,0,1,1,1,0,0,1,0],\"z\":[1,2,3,3,2,1,3,2,2,1]})"
   ]
  },
  {
   "cell_type": "code",
   "execution_count": 32,
   "metadata": {},
   "outputs": [],
   "source": [
    "from sklearn.model_selection import train_test_split\n",
    "\n",
    "X_train, X_valid, y_train, y_valid = train_test_split(data[['x','z']], data['y'], test_size=0.2)"
   ]
  },
  {
   "cell_type": "code",
   "execution_count": 40,
   "metadata": {},
   "outputs": [
    {
     "data": {
      "text/plain": [
       "(2,)"
      ]
     },
     "execution_count": 40,
     "metadata": {},
     "output_type": "execute_result"
    }
   ],
   "source": [
    "data['y'].unique().shape[0]"
   ]
  },
  {
   "cell_type": "code",
   "execution_count": 37,
   "metadata": {},
   "outputs": [],
   "source": [
    "model = xgb.XGBClassifier(**xgb_params, early_stopping=50,)"
   ]
  },
  {
   "cell_type": "code",
   "execution_count": 42,
   "metadata": {
    "scrolled": true
   },
   "outputs": [
    {
     "name": "stdout",
     "output_type": "stream",
     "text": [
      "[0]\tvalidation_0-logloss:0.693186\tvalidation_1-logloss:0.693225\n",
      "Multiple eval metrics have been passed: 'validation_1-logloss' will be used for early stopping.\n",
      "\n",
      "Will train until validation_1-logloss hasn't improved in 50 rounds.\n",
      "[1]\tvalidation_0-logloss:0.693372\tvalidation_1-logloss:0.693499\n",
      "[2]\tvalidation_0-logloss:0.690853\tvalidation_1-logloss:0.693724\n",
      "[3]\tvalidation_0-logloss:0.691204\tvalidation_1-logloss:0.694262\n",
      "[4]\tvalidation_0-logloss:0.687381\tvalidation_1-logloss:0.710905\n",
      "[5]\tvalidation_0-logloss:0.687317\tvalidation_1-logloss:0.710822\n",
      "[6]\tvalidation_0-logloss:0.687051\tvalidation_1-logloss:0.710754\n",
      "[7]\tvalidation_0-logloss:0.683633\tvalidation_1-logloss:0.711817\n",
      "[8]\tvalidation_0-logloss:0.683182\tvalidation_1-logloss:0.710874\n",
      "[9]\tvalidation_0-logloss:0.681139\tvalidation_1-logloss:0.711231\n",
      "[10]\tvalidation_0-logloss:0.678657\tvalidation_1-logloss:0.721547\n",
      "[11]\tvalidation_0-logloss:0.676754\tvalidation_1-logloss:0.721922\n",
      "[12]\tvalidation_0-logloss:0.674994\tvalidation_1-logloss:0.722321\n",
      "[13]\tvalidation_0-logloss:0.675099\tvalidation_1-logloss:0.722669\n",
      "[14]\tvalidation_0-logloss:0.672773\tvalidation_1-logloss:0.732686\n",
      "[15]\tvalidation_0-logloss:0.672623\tvalidation_1-logloss:0.732165\n",
      "[16]\tvalidation_0-logloss:0.672736\tvalidation_1-logloss:0.733018\n",
      "[17]\tvalidation_0-logloss:0.671118\tvalidation_1-logloss:0.733476\n",
      "[18]\tvalidation_0-logloss:0.671859\tvalidation_1-logloss:0.735704\n",
      "[19]\tvalidation_0-logloss:0.672117\tvalidation_1-logloss:0.736939\n",
      "[20]\tvalidation_0-logloss:0.67201\tvalidation_1-logloss:0.736664\n",
      "[21]\tvalidation_0-logloss:0.671597\tvalidation_1-logloss:0.735503\n",
      "[22]\tvalidation_0-logloss:0.670102\tvalidation_1-logloss:0.736026\n",
      "[23]\tvalidation_0-logloss:0.66773\tvalidation_1-logloss:0.746075\n",
      "[24]\tvalidation_0-logloss:0.667341\tvalidation_1-logloss:0.744554\n",
      "[25]\tvalidation_0-logloss:0.66516\tvalidation_1-logloss:0.754425\n",
      "[26]\tvalidation_0-logloss:0.663139\tvalidation_1-logloss:0.764005\n",
      "[27]\tvalidation_0-logloss:0.66309\tvalidation_1-logloss:0.763041\n",
      "[28]\tvalidation_0-logloss:0.663065\tvalidation_1-logloss:0.762885\n",
      "[29]\tvalidation_0-logloss:0.663207\tvalidation_1-logloss:0.76363\n",
      "[30]\tvalidation_0-logloss:0.663172\tvalidation_1-logloss:0.762733\n",
      "[31]\tvalidation_0-logloss:0.663201\tvalidation_1-logloss:0.761908\n",
      "[32]\tvalidation_0-logloss:0.663253\tvalidation_1-logloss:0.762217\n",
      "[33]\tvalidation_0-logloss:0.662452\tvalidation_1-logloss:0.762095\n",
      "[34]\tvalidation_0-logloss:0.662753\tvalidation_1-logloss:0.761507\n",
      "[35]\tvalidation_0-logloss:0.662099\tvalidation_1-logloss:0.761351\n",
      "[36]\tvalidation_0-logloss:0.660549\tvalidation_1-logloss:0.769893\n",
      "[37]\tvalidation_0-logloss:0.659954\tvalidation_1-logloss:0.769754\n",
      "[38]\tvalidation_0-logloss:0.658572\tvalidation_1-logloss:0.770038\n",
      "[39]\tvalidation_0-logloss:0.65858\tvalidation_1-logloss:0.770202\n",
      "[40]\tvalidation_0-logloss:0.657959\tvalidation_1-logloss:0.770104\n",
      "[41]\tvalidation_0-logloss:0.657959\tvalidation_1-logloss:0.770135\n",
      "[42]\tvalidation_0-logloss:0.656723\tvalidation_1-logloss:0.770457\n",
      "[43]\tvalidation_0-logloss:0.656342\tvalidation_1-logloss:0.770255\n",
      "[44]\tvalidation_0-logloss:0.656342\tvalidation_1-logloss:0.770714\n",
      "[45]\tvalidation_0-logloss:0.655968\tvalidation_1-logloss:0.770485\n",
      "[46]\tvalidation_0-logloss:0.654485\tvalidation_1-logloss:0.778859\n",
      "[47]\tvalidation_0-logloss:0.654487\tvalidation_1-logloss:0.778982\n",
      "[48]\tvalidation_0-logloss:0.654613\tvalidation_1-logloss:0.778069\n",
      "[49]\tvalidation_0-logloss:0.654345\tvalidation_1-logloss:0.778645\n",
      "[50]\tvalidation_0-logloss:0.653249\tvalidation_1-logloss:0.778987\n",
      "Stopping. Best iteration:\n",
      "[0]\tvalidation_0-logloss:0.693186\tvalidation_1-logloss:0.693225\n",
      "\n"
     ]
    },
    {
     "data": {
      "text/plain": [
       "XGBClassifier(base_score=0.5, booster='gbtree', colsample_bylevel=1,\n",
       "       colsample_bytree=0.85, early_stopping=50, gamma=0,\n",
       "       learning_rate=0.05, max_delta_step=0, max_depth=5,\n",
       "       min_child_weight=3, missing=None, n_estimators=1000, n_jobs=4,\n",
       "       nthread=None, objective='reg:linear', random_state=2019,\n",
       "       reg_alpha=0, reg_lambda=1, scale_pos_weight=1, seed=None,\n",
       "       silent=True, subsample=0.85, verbose=1)"
      ]
     },
     "execution_count": 42,
     "metadata": {},
     "output_type": "execute_result"
    }
   ],
   "source": [
    "model.fit(X_train, y_train, eval_set=[(X_train, y_train), (X_valid, y_valid)],eval_metric='logloss',verbose=-1, early_stopping_rounds=50)"
   ]
  },
  {
   "cell_type": "code",
   "execution_count": 43,
   "metadata": {},
   "outputs": [],
   "source": [
    "import lightgbm as lgb"
   ]
  },
  {
   "cell_type": "code",
   "execution_count": 46,
   "metadata": {},
   "outputs": [],
   "source": [
    "model1 = lgb.LGBMClassifier(**lgb_params)"
   ]
  },
  {
   "cell_type": "code",
   "execution_count": 55,
   "metadata": {},
   "outputs": [
    {
     "data": {
      "text/plain": [
       "LGBMClassifier(boosting_type='gbdt', class_weight=None, colsample_bytree=0.85,\n",
       "        importance_type='split', learning_rate=0.05, max_depth=7,\n",
       "        min_child_samples=46, min_child_weight=0.01, min_split_gain=0.0,\n",
       "        n_estimators=1000, n_jobs=-1, num_leaves=40, objective=None,\n",
       "        random_state=None, reg_alpha=0.0, reg_lambda=0.0, seed=2019,\n",
       "        silent=True, subsample=0.85, subsample_for_bin=200000,\n",
       "        subsample_freq=2, verbose=-1)"
      ]
     },
     "execution_count": 55,
     "metadata": {},
     "output_type": "execute_result"
    }
   ],
   "source": [
    "model1.fit(X_train, y_train)"
   ]
  },
  {
   "cell_type": "code",
   "execution_count": null,
   "metadata": {},
   "outputs": [],
   "source": []
  }
 ],
 "metadata": {
  "kernelspec": {
   "display_name": "Python 3",
   "language": "python",
   "name": "python3"
  },
  "language_info": {
   "codemirror_mode": {
    "name": "ipython",
    "version": 3
   },
   "file_extension": ".py",
   "mimetype": "text/x-python",
   "name": "python",
   "nbconvert_exporter": "python",
   "pygments_lexer": "ipython3",
   "version": "3.6.8"
  }
 },
 "nbformat": 4,
 "nbformat_minor": 2
}
